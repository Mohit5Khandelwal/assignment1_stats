{
 "cells": [
  {
   "cell_type": "markdown",
   "metadata": {},
   "source": [
    "Q1. What is the Probability density function?\n",
    "\n",
    "Pdf gives us the information that how my continous data is distributed."
   ]
  },
  {
   "cell_type": "markdown",
   "metadata": {},
   "source": [
    "Q2. What are the types of Probability distribution?\n",
    "\n",
    "1. Normal distribution\n",
    "2. Bernauli distribution\n",
    "3. Uniform distribution\n",
    "4. Possion distribution"
   ]
  },
  {
   "cell_type": "markdown",
   "metadata": {},
   "source": [
    "Q3. Write a Python function to calculate the probability density function of a normal distribution with \n",
    "given mean and standard deviation at a given point."
   ]
  },
  {
   "cell_type": "code",
   "execution_count": 1,
   "metadata": {},
   "outputs": [],
   "source": [
    "import numpy as np"
   ]
  },
  {
   "cell_type": "code",
   "execution_count": 2,
   "metadata": {},
   "outputs": [
    {
     "name": "stdout",
     "output_type": "stream",
     "text": [
      "PDF:  0.2187424244521521\n",
      "PDF:  0.4630777161991027\n",
      "PDF:  0.5946035575013605\n",
      "PDF:  0.4630777161991027\n",
      "PDF:  0.2187424244521521\n"
     ]
    }
   ],
   "source": [
    "# Calculating the pdf of Normal distribution \n",
    "def pdf( u , x  , sig ):\n",
    "    exp_val = ( x - u  ) / sig\n",
    "    ans = ( 1 / ( sig *  np.sqrt( sig ) ) ) * ( np.exp( ( -0.5 ) * (  np.power( exp_val , 2 ) )  ) )\n",
    "    return ans\n",
    "\n",
    "x = [ 1 , 2 , 3 , 4 , 5 ]\n",
    "\n",
    "mean = np.mean( x )\n",
    "std   = np.std( x )\n",
    "\n",
    "for data in x:\n",
    "    val = pdf( mean , data , std  )\n",
    "    print( \"PDF: \" , val )"
   ]
  },
  {
   "cell_type": "markdown",
   "metadata": {},
   "source": [
    "Q4. What are the properties of Binomial distribution? Give two examples of events where binomial\n",
    "distribution can be applied.\n",
    "\n",
    "-- Discrete random variable\n",
    "-- Every experiment of a outcome is binary\n",
    "-- These experiments are performed in n times \n",
    "\n",
    "Ex- Tossing a coin for n times \n",
    "Ex- Exam passing rate "
   ]
  },
  {
   "cell_type": "markdown",
   "metadata": {},
   "source": [
    "Q5. Generate a random sample of size 1000 from a binomial distribution with probability of success 0.4 \n",
    "and plot a histogram of the results using matplotlib."
   ]
  },
  {
   "cell_type": "code",
   "execution_count": 6,
   "metadata": {},
   "outputs": [],
   "source": [
    "import matplotlib.pyplot as plt"
   ]
  },
  {
   "cell_type": "code",
   "execution_count": 11,
   "metadata": {},
   "outputs": [
    {
     "data": {
      "image/png": "[encoded data removed]",
      "text/plain": [
       "<Figure size 640x480 with 1 Axes>"
      ]
     },
     "metadata": {},
     "output_type": "display_data"
    }
   ],
   "source": [
    "# Generate the binomial distribution \n",
    "\n",
    "sample_size = 1000\n",
    "p = 0.4\n",
    "\n",
    "random_sample = np.random.binomial( 1 , p  , sample_size )\n",
    "\n",
    "# plotting the distribution\n",
    "plt.hist( random_sample , bins=[0, 1 , 2], align='left', rwidth=0.8, color='skyblue', edgecolor='black' )\n",
    "plt.xticks([0, 1])\n",
    "plt.xlabel('Success (1) or Failure (0)')\n",
    "plt.ylabel('Frequency')\n",
    "plt.title(f'Binomial Distribution - Probability of Success')\n",
    "plt.show()\n",
    "plt.show()\n"
   ]
  },
  {
   "cell_type": "markdown",
   "metadata": {},
   "source": [
    "Q6. Write a Python function to calculate the cumulative distribution function of a Poisson distribution\n",
    "with given mean at a given point."
   ]
  },
  {
   "cell_type": "code",
   "execution_count": 15,
   "metadata": {},
   "outputs": [
    {
     "data": {
      "text/plain": [
       "0.2650259152973615"
      ]
     },
     "execution_count": 15,
     "metadata": {},
     "output_type": "execute_result"
    }
   ],
   "source": [
    "from scipy.stats import poisson\n",
    "\n",
    "# Consider mean ( lambda value )\n",
    "mean = 5.0\n",
    "\n",
    "# Find the cdf at point 3\n",
    "point = 3\n",
    "cdf_value = poisson.cdf( point , mean )\n",
    "\n",
    "cdf_value\n"
   ]
  },
  {
   "cell_type": "markdown",
   "metadata": {},
   "source": [
    "Q7. How Binomial distribution different from Poisson distribution?\n",
    "\n",
    "In poisson distribution we are describing the no. of events occuring in a fixed time interval."
   ]
  },
  {
   "cell_type": "markdown",
   "metadata": {},
   "source": [
    "Q8. Generate a random sample of size 1000 from a Poisson distribution with mean 5 and calculate the \n",
    "sample mean and variance."
   ]
  },
  {
   "cell_type": "code",
   "execution_count": 18,
   "metadata": {},
   "outputs": [
    {
     "name": "stdout",
     "output_type": "stream",
     "text": [
      "Sample Mean:  5.077 Sample variance:  0.0\n"
     ]
    }
   ],
   "source": [
    "mean = 5\n",
    "size = 1000\n",
    "\n",
    "random_inter = np.random.poisson( mean , size )\n",
    "\n",
    "sample_mean = np.mean( random_inter )\n",
    "\n",
    "sample_var  = np.var( sample_mean )\n",
    "\n",
    "print( \"Sample Mean: \" , sample_mean , \"Sample variance: \" , sample_var )"
   ]
  },
  {
   "cell_type": "markdown",
   "metadata": {},
   "source": [
    "Q9. How mean and variance are related in Binomial distribution and Poisson distribution?\n",
    "\n",
    "In binomial distribution:                   In Possion distribution:\n",
    "Mean : np                                   Mean = variance = lambda * t\n",
    "Var : npq"
   ]
  },
  {
   "cell_type": "markdown",
   "metadata": {},
   "source": [
    "Q10. In normal distribution with respect to mean position, where does the least frequent data appear?\n",
    "\n",
    "In a normal distribution, the data is symmetrically distributed around the mean, which is the central value of the distribution. The least frequent data points appear in the tails of the distribution, farthest away from the mean."
   ]
  }
 ],
 "metadata": {
  "kernelspec": {
   "display_name": "Python 3",
   "language": "python",
   "name": "python3"
  },
  "language_info": {
   "codemirror_mode": {
    "name": "ipython",
    "version": 3
   },
   "file_extension": ".py",
   "mimetype": "text/x-python",
   "name": "python",
   "nbconvert_exporter": "python",
   "pygments_lexer": "ipython3",
   "version": "3.10.7"
  },
  "orig_nbformat": 4
 },
 "nbformat": 4,
 "nbformat_minor": 2
}
